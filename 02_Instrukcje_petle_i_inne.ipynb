{
 "cells": [
  {
   "cell_type": "markdown",
   "id": "2c60d18f",
   "metadata": {},
   "source": [
    "# Instrukcje, pętle i inne - Notebook nr 2\n",
    "\n",
    "# Spis Treści\n",
    "\n",
    "1. [Pobieranie danych od użytkownika](#pobieranie)\n",
    "2. [Instrukcja warunkowa `if` (z wariantami `elif`, `else`)](#instrukcja-if)\n",
    "3. [Pętle (`while`, `for`) i iteratory](#petle-iteratory)\n",
    "   - [3a. Pętla `while`](#petla-while)\n",
    "   - [3b. Pętla `for`](#petla-for)\n",
    "   - [3c. Iteratory](#iteratory)\n",
    "   - [3d. Listy składane](#listy-skladane)\n",
    "4. [Instrukcje sterujące (`break`, `continue`, `pass`, `else` w pętli)](#instrukcje-sterujace)\n",
    "5. [Typy mutowalne i niemutowalne w Pythonie](#typy)\n",
    "6. [Funkcje `zip` i rozpakowywanie (`*`)](#zip)\n",
    "7. [Formatowanie tekstu](#formatowanie)\n",
    "8. [Słowniki (`dict`)](#slowniki)\n"
   ]
  },
  {
   "cell_type": "markdown",
   "id": "6a0ccb1f",
   "metadata": {},
   "source": [
    "## <a id=\"pobieranie\"></a>1. Pobieranie danych od użytkownika\n",
    "\n",
    "W Pythonie 3 do pobierania danych od użytkownika służy funkcja `input()`. Należy pamiętać, że:\n",
    "- `input()` zwraca zawsze wartość typu `str`.\n",
    "- można użyć `eval(input())` do próby zinterpretowania wpisanego tekstu jako konkretny typ (np. liczba całkowita, zmiennoprzecinkowa czy wartość logiczna).\n",
    "\n",
    "**Uwaga!** Korzystanie z `eval` może być niebezpieczne w sytuacji, gdy kod ma przetwarzać dane z niezaufanego źródła. W większości przypadków lepiej samodzielnie parsować dane, np. do int, float itp.\n"
   ]
  },
  {
   "cell_type": "code",
   "execution_count": null,
   "id": "ce1b8d3d",
   "metadata": {},
   "outputs": [],
   "source": [
    "# Przykład działania input() oraz eval(input())\n",
    "\n",
    "# Poniższy blok kodu można uruchomić, wtedy program zapyta w konsoli o dane.\n",
    "# W notatniku Jupyter standardowo input() też działa, ale w interfejsie webowym\n",
    "# może się to zachowywać nieco inaczej.\n",
    "\n",
    "try:\n",
    "    dane = input(\"Podaj jakąś wartość: \")\n",
    "    print(\"Odczytany napis:\", dane, \"-> typ:\", type(dane))\n",
    "\n",
    "    dane_eval = eval(input(\"Podaj coś, co można zinterpretować przez eval (np. 123, 3.14, True): \"))\n",
    "    print(\"Wartość eval:\", dane_eval, \"-> typ:\", type(dane_eval))\n",
    "\n",
    "except Exception as e:\n",
    "    print(\"Wystąpił wyjątek:\", e)"
   ]
  },
  {
   "cell_type": "markdown",
   "id": "9bea825a",
   "metadata": {},
   "source": [
    "## <a id=\"instrukcja-if\"></a>2. Instrukcja warunkowa `if`\n",
    "\n",
    "Instrukcja `if` w Pythonie działa podobnie jak w innych językach programowania, przy czym bardzo ważne są **wcięcia** (4 spacje albo znak tabulacji - zalecane 4 spacje). Zwróć uwagę na składnię:\n",
    "\n",
    "```python\n",
    "if warunek:\n",
    "    # blok kodu\n",
    "    # wcięcie\n",
    "elif inny_warunek:\n",
    "    # inny blok kodu\n",
    "else:\n",
    "    # blok kodu w przeciwnym razie\n",
    "```\n",
    "\n",
    "### Przykład użycia `if` (sprawdzanie, czy użytkownik podał cyfrę)\n"
   ]
  },
  {
   "cell_type": "code",
   "execution_count": null,
   "id": "7e418ada",
   "metadata": {},
   "outputs": [],
   "source": [
    "# Przykład sprawdzający, czy podana wartość jest cyfrą (0-9)\n",
    "# Uwaga: W notatniku Jupyter program może nie wykonywać się \"interaktywnie\".\n",
    "# W normalnym pliku .py i konsoli/terminalu zadziała standardowo.\n",
    "\n",
    "while True:\n",
    "    try:\n",
    "        wejscie = input(\"Podaj cyfrę: \")\n",
    "        cyfra = eval(wejscie)\n",
    "        \n",
    "        if not isinstance(cyfra, int):\n",
    "            print(\"To nie jest cyfra! (typ)\")\n",
    "        elif cyfra > 9:\n",
    "            print(\"To nie jest cyfra! (za dużo)\")\n",
    "        elif cyfra < 0:\n",
    "            print(\"To nie jest cyfra! (za mało)\")\n",
    "        else:\n",
    "            print(\"Twoja cyfra to:\", cyfra)\n",
    "            break  # wychodzimy z pętli\n",
    "    except NameError:\n",
    "        print(\"To nie jest cyfra!\")\n",
    "    except Exception as e:\n",
    "        print(\"Wystąpił błąd:\", e)\n"
   ]
  },
  {
   "cell_type": "markdown",
   "id": "ec40c2c3",
   "metadata": {},
   "source": [
    "## <a id=\"petle-iteratory\"></a>3. Pętle i iteratory\n",
    "\n",
    "### <a id=\"petla-while\"></a>3a. Pętla `while`\n",
    "Pętla `while` wykonuje się tak długo, aż warunek przestanie być prawdziwy.\n",
    "\n",
    "```python\n",
    "while warunek:\n",
    "    # kod\n",
    "```\n",
    "\n",
    "Przykład: sprawdzamy, czy liczba jest podzielna przez 7:\n"
   ]
  },
  {
   "cell_type": "code",
   "execution_count": null,
   "id": "244e6d5e",
   "metadata": {},
   "outputs": [],
   "source": [
    "wejscie = input(\"Podaj liczbę podzielną przez 7: \")\n",
    "while int(wejscie) % 7 != 0:\n",
    "    print(\"Ta liczba nie jest podzielna przez 7.\")\n",
    "    wejscie = input(\"Podaj liczbę podzielną przez 7: \")\n",
    "print(\"Dzięki!\")"
   ]
  },
  {
   "cell_type": "markdown",
   "id": "a106e847",
   "metadata": {},
   "source": [
    "### <a id=\"petla-for\"></a>3b. Pętla `for`\n",
    "Najpopularniejsza pętla do iterowania po elementach sekwencji (list, tuple, range, string, itp.).\n",
    "\n",
    "```python\n",
    "for element in sekwencja:\n",
    "    # kod\n",
    "```\n",
    "\n",
    "Przykładowo:\n"
   ]
  },
  {
   "cell_type": "code",
   "execution_count": null,
   "id": "f7351709",
   "metadata": {},
   "outputs": [],
   "source": [
    "lista = [\"jeden\", \"dwa\", \"trzy\", \"cztery\"]\n",
    "for element in lista:\n",
    "    print(element)"
   ]
  },
  {
   "cell_type": "markdown",
   "id": "2b99bc6f",
   "metadata": {},
   "source": [
    "#### Zagnieżdżanie pętli\n",
    "Można łatwo zagnieżdżać pętle, np. iterować po literach w każdym wyrazie:\n"
   ]
  },
  {
   "cell_type": "code",
   "execution_count": null,
   "id": "ba7e998a",
   "metadata": {},
   "outputs": [],
   "source": [
    "lista = [\"jeden\", \"dwa\", \"trzy\", \"cztery\"]\n",
    "for wyraz in lista:\n",
    "    for litera in wyraz:\n",
    "        print(litera + \"-\", end=\" \")\n",
    "    print()  # nowa linia po każdym wyrazie"
   ]
  },
  {
   "cell_type": "markdown",
   "id": "644b1903",
   "metadata": {},
   "source": [
    "### <a id=\"iteratory\"></a>3c. Iteratory\n",
    "W Pythonie każda sekwencja (lista, krotka, string) jest iterowalna. Aby uzyskać iterator, można:\n",
    "\n",
    "```python\n",
    "lista = [\"jeden\", \"dwa\", \"trzy\"]\n",
    "it = iter(lista)  # tworzymy iterator\n",
    "print(next(it))   # 'jeden'\n",
    "print(next(it))   # 'dwa'\n",
    "print(next(it))   # 'trzy'\n",
    "print(next(it))   # błąd StopIteration\n",
    "```\n"
   ]
  },
  {
   "cell_type": "markdown",
   "id": "42e00fd5",
   "metadata": {},
   "source": [
    "### <a id=\"listy-skladane\"></a>3d. Listy składane\n",
    "Listy składane (ang. list comprehensions) to bardzo elegancki sposób tworzenia nowych list na podstawie istniejących sekwencji lub innych iterowalnych obiektów. Dzięki nim możemy szybko przekształcać dane, stosować warunki i operacje – wszystko w jednej, zwięzłej linijce kodu.\n",
    "\n",
    "Przykładowo, aby utworzyć listę kwadratów liczb od 0 do 9, możemy napisać:"
   ]
  },
  {
   "cell_type": "code",
   "execution_count": null,
   "id": "listy_składane_code",
   "metadata": {},
   "outputs": [],
   "source": [
    "# Przykłady list składanych\n",
    "\n",
    "# Utworzenie listy kwadratów liczb od 0 do 9\n",
    "kwadraty = [x**2 for x in range(10)]\n",
    "print(\"Kwadraty liczb od 0 do 9:\", kwadraty)\n",
    "\n",
    "# Utworzenie listy kwadratów tylko parzystych liczb od 0 do 9\n",
    "kwadraty_parzystych = [x**2 for x in range(10) if x % 2 == 0]\n",
    "print(\"Kwadraty parzystych liczb od 0 do 9:\", kwadraty_parzystych)"
   ]
  },
  {
   "cell_type": "markdown",
   "id": "e296119f",
   "metadata": {},
   "source": [
    "Listy składane to potężne narzędzie, które pozwala pisać czytelny i zwięzły kod."
   ]
  },
  {
   "cell_type": "markdown",
   "id": "ee4bf2e6",
   "metadata": {},
   "source": [
    "## <a id=\"instrukcje-sterujace\"></a>4. Instrukcje sterujące: `break`, `continue`, `pass`, `else`\n",
    "\n",
    "- **`break`** natychmiast przerywa wykonywanie pętli.\n",
    "- **`continue`** przerywa *aktualną* iterację, przechodzi do kolejnej.\n",
    "- **`pass`** nic nie robi, *pusta instrukcja*.\n",
    "- `else` przy pętli wykona się wtedy, gdy pętla *nie* została przerwana instrukcją `break`.\n",
    "\n",
    "Przykłady:\n"
   ]
  },
  {
   "cell_type": "code",
   "execution_count": null,
   "id": "7201347f",
   "metadata": {},
   "outputs": [],
   "source": [
    "# break\n",
    "for i in range(5):\n",
    "    print(\"i =\", i)\n",
    "    if i == 2:\n",
    "        print(\"Natrafiono na 2, wychodzimy z pętli!\")\n",
    "        break\n"
   ]
  },
  {
   "cell_type": "code",
   "execution_count": null,
   "id": "2fea6916",
   "metadata": {},
   "outputs": [],
   "source": [
    "# continue\n",
    "for i in range(5):\n",
    "    if i == 2:\n",
    "        print(\"Pominięcie licznika 2\")\n",
    "        continue\n",
    "    print(\"i =\", i)\n"
   ]
  },
  {
   "cell_type": "code",
   "execution_count": null,
   "id": "48a42b73",
   "metadata": {},
   "outputs": [],
   "source": [
    "# pass\n",
    "for i in range(3):\n",
    "    if i == 1:\n",
    "        pass  # Nic nie robimy tutaj\n",
    "    print(\"i =\", i)"
   ]
  },
  {
   "cell_type": "code",
   "execution_count": null,
   "id": "48a42b73",
   "metadata": {},
   "outputs": [],
   "source": [
    "# else w pętli\n",
    "# else wykona się tylko wtedy, gdy pętla NIE zostanie przerwana instrukcją break.\n",
    "\n",
    "for i in range(5):\n",
    "    if i == 6:\n",
    "        break\n",
    "    print(i)\n",
    "else:\n",
    "    print(\"Pętla zakończona bez break\")"
   ]
  },
  {
   "cell_type": "markdown",
   "id": "9228fdb2",
   "metadata": {},
   "source": [
    "## <a id=\"typy\"></a>5. Typy mutowalne i niemutowalne\n",
    "\n",
    "W Pythonie istnieją typy **niemutowalne** (niezmienialne) i **mutowalne** (zmienialne). Do tych\n",
    "pierwszych należą m.in. `int`, `float`, `bool`, `str`, `tuple`, do drugich m.in. `list`, `dict`.\n",
    "\n",
    "### Niemutowalne\n",
    "Raz utworzony obiekt nie może zostać \"zmieniony\" w miejscu, np. liczba lub krotka.\n",
    "\n",
    "### Mutowalne\n",
    "Raz utworzony obiekt można zmieniać w miejscu, np. listę, słownik. \n",
    "\n",
    "Poniższe przykłady pokazują, jak Python zarządza miejscem w pamięci (identyfikatory obiektów)."
   ]
  },
  {
   "cell_type": "code",
   "execution_count": null,
   "id": "ed114195",
   "metadata": {},
   "outputs": [],
   "source": [
    "# Typ niemutowalny (int)\n",
    "a = 10\n",
    "print(\"a =\", a, \"-> id(a)\", id(a))\n",
    "\n",
    "b = a  # b wskazuje na to samo miejsce co a\n",
    "print(\"b =\", b, \"-> id(b)\", id(b))\n",
    "\n",
    "b = 20  # przypisujemy nową wartość do b\n",
    "print(\"b =\", b, \"-> id(b)\", id(b))\n",
    "print(\"a =\", a, \"-> id(a)\", id(a), \"(bez zmian)\")"
   ]
  },
  {
   "cell_type": "code",
   "execution_count": null,
   "id": "ed114195",
   "metadata": {},
   "outputs": [],
   "source": [
    "# Typ mutowalny (list)\n",
    "lista_1 = [1, 2, 3]\n",
    "print(\"lista_1 =\", lista_1, \"-> id(lista_1)\", id(lista_1))\n",
    "\n",
    "# Przypisujemy do lista_2 tę samą listę (ten sam obiekt)\n",
    "lista_2 = lista_1\n",
    "print(\"lista_2 =\", lista_2, \"-> id(lista_2)\", id(lista_2))\n",
    "\n",
    "# Zmieniamy element w lista_2\n",
    "lista_2[1] = 99\n",
    "print(\"Po zmianie:\")\n",
    "print(\"lista_1 =\", lista_1)\n",
    "print(\"lista_2 =\", lista_2)\n",
    "\n",
    "# Kopiowanie \"prawdziwe\" (tworzy nowy obiekt) -> .copy()\n",
    "lista_3 = lista_1.copy()\n",
    "lista_3[2] = 123\n",
    "print(\"\\nPo kolejnym modyfikowaniu lista_3:\")\n",
    "print(\"lista_1 =\", lista_1)\n",
    "print(\"lista_3 =\", lista_3)"
   ]
  },
  {
   "cell_type": "markdown",
   "id": "7e5dce0f",
   "metadata": {},
   "source": [
    "## <a id=\"zip\"></a>6. Funkcje `zip` i rozpakowywanie (`*`)\n",
    "\n",
    "### Rozpakowywanie list\n",
    "W Pythonie można łatwo \"odpakować\" listę (tuple itp.) do zmiennych:"
   ]
  },
  {
   "cell_type": "code",
   "execution_count": null,
   "id": "39fb2d25",
   "metadata": {},
   "outputs": [],
   "source": [
    "lista = [1, 2, 3]\n",
    "a, b, c = lista\n",
    "print(\"a =\", a)\n",
    "print(\"b =\", b)\n",
    "print(\"c =\", c)"
   ]
  },
  {
   "cell_type": "markdown",
   "id": "a707d866",
   "metadata": {},
   "source": [
    "Można też użyć `*` do przechwycenia wielu elementów:"
   ]
  },
  {
   "cell_type": "code",
   "execution_count": null,
   "id": "b7e792c5",
   "metadata": {},
   "outputs": [],
   "source": [
    "lista = [1, 2, 3, 4, 5]\n",
    "a, *b = lista  # a=1, b=[2,3,4,5]\n",
    "print(\"a =\", a)\n",
    "print(\"b =\", b)"
   ]
  },
  {
   "cell_type": "markdown",
   "id": "8e3a94ad",
   "metadata": {},
   "source": [
    "\n",
    "### Funkcja `zip`\n",
    "Pozwala łączyć elementy z wielu list w pary (krotki):"
   ]
  },
  {
   "cell_type": "code",
   "execution_count": null,
   "id": "586c2ae0",
   "metadata": {},
   "outputs": [],
   "source": [
    "lista1 = [1, 2, 3]\n",
    "lista2 = ['x', 'y', 'z']\n",
    "z = zip(lista1, lista2)\n",
    "print(list(z))  # [(1, 'x'), (2, 'y'), (3, 'z')]"
   ]
  },
  {
   "cell_type": "markdown",
   "id": "183f1e43",
   "metadata": {},
   "source": [
    "## <a id=\"formatowanie\"></a>7. Formatowanie tekstu\n",
    "W Pythonie można formatować ciągi znaków na różne sposoby:\n",
    "\n",
    "- Konkatenacja z `+` (np. `\"liczba: \" + str(liczba)`).\n",
    "- `str.format(...)`: \n",
    "  ```python\n",
    "  \"A to {} i {}\".format(10, 20)\n",
    "  ```\n",
    "- f-stringi (od Pythona 3.6):\n",
    "  ```python\n",
    "  a = 10\n",
    "  b = 20\n",
    "  print(f\"A to {a}, a B to {b}\")\n",
    "  ```\n",
    "\n",
    "Możemy też sterować szerokością pól, dokładnością liczb zmiennoprzecinkowych itd. \n",
    "\n",
    "### Przykłady z `format` (niepolecane!)\n"
   ]
  },
  {
   "cell_type": "code",
   "execution_count": null,
   "id": "183f1e43",
   "metadata": {},
   "outputs": [],
   "source": [
    "from math import pi\n",
    "print(\"Pi = {}\".format(pi))\n",
    "print(\"Pi = {:.3f}\".format(pi))\n",
    "print(\"Pi = {:10.5f}\".format(pi))  # 10 znaków szerokości, 5 miejsc po przecinku\n",
    "\n",
    "a, b, c = 1, 2, 3\n",
    "print(\"a={}, b={}, c={}\".format(a, b, c))\n",
    "print(\"c={}, a={}, b={}\".format(c, a, b))  # zmiana kolejności argumentów\n",
    "print(\"a={a}, b={b}, c={c}\".format(a=a, b=b, c=c))"
   ]
  },
  {
   "cell_type": "markdown",
   "id": "01b7004f",
   "metadata": {},
   "source": [
    "### Przykłady z `f-string` (zalecane!)\n"
   ]
  },
  {
   "cell_type": "code",
   "execution_count": null,
   "id": "b5682175",
   "metadata": {},
   "outputs": [],
   "source": [
    "from math import pi\n",
    "print(f\"Pi = {pi}\")\n",
    "print(f\"Pi = {pi:.3f}\")\n",
    "print(f\"Pi = {pi:10.5f}\")  # 10 znaków szerokości, 5 miejsc po przecinku\n",
    "\n",
    "a, b, c = 1, 2, 3\n",
    "print(f\"a={a}, b={b}, c={c}\")\n",
    "print(f\"c={c}, a={a}, b={b}\")  # zmiana kolejności argumentów\n",
    "print(f\"a={a}, b={b}, c={c}\")\n"
   ]
  },
  {
   "cell_type": "markdown",
   "id": "94bd1cd8",
   "metadata": {},
   "source": [
    "## <a id=\"slowniki\"></a>8. Słowniki (`dict`)\n",
    "\n",
    "Słowniki (`dict`) to struktury danych mapujące **klucze** na **wartości**. Kluczem może być każdy obiekt hashowalny (np. liczba, łańcuch, krotka), wartością – dowolny obiekt.\n",
    "\n",
    "Przykłady tworzenia słowników:\n",
    "```python\n",
    "slownik_1 = {\"Python\": 3.0, \"Matma\": 4.0, \"WF\": 2.0}\n",
    "slownik_2 = dict(Python=3.0, Matma=4.0, WF=2.0)\n",
    "```\n",
    "Operacje na słowniku:\n",
    "- `slownik[key]` – dostęp do wartości.\n",
    "- `slownik.keys()`, `slownik.values()`, `slownik.items()` – iteracja po kluczach, wartościach, parach klucz-wartość.\n",
    "- `slownik.copy()`, `slownik.clear()` itp.\n",
    "\n",
    "### Przykład\n"
   ]
  },
  {
   "cell_type": "code",
   "execution_count": null,
   "id": "94bd1cd8",
   "metadata": {},
   "outputs": [],
   "source": [
    "oceny = {\n",
    "    \"Python\": 3.0,\n",
    "    \"Matematyka\": 4.0,\n",
    "    \"WF\": 2.0,\n",
    "    \"Bieg\": 5.0\n",
    "}\n",
    "\n",
    "print(\"Klucze:\", oceny.keys())\n",
    "print(\"Wartości:\", oceny.values())\n",
    "print(\"Pary:\", oceny.items())\n",
    "\n",
    "# Dostęp do wartości\n",
    "print(\"Ocena z Pythona:\", oceny[\"Python\"])\n",
    "\n",
    "# Dodawanie nowego klucza:\n",
    "oceny[\"Statystyka\"] = 3.5\n",
    "print(\"Po dodaniu Statystyki:\", oceny)\n",
    "\n",
    "# Modyfikowanie wartości\n",
    "oceny[\"WF\"] = 3.5\n",
    "print(\"Zmieniona ocena z WF:\", oceny)\n"
   ]
  },
  {
   "cell_type": "code",
   "execution_count": null,
   "id": "21737173",
   "metadata": {},
   "outputs": [],
   "source": []
  }
 ],
 "metadata": {
  "kernelspec": {
   "display_name": "base",
   "language": "python",
   "name": "python3"
  },
  "language_info": {
   "codemirror_mode": {
    "name": "ipython",
    "version": 3
   },
   "file_extension": ".py",
   "mimetype": "text/x-python",
   "name": "python",
   "nbconvert_exporter": "python",
   "pygments_lexer": "ipython3",
   "version": "3.11.8"
  }
 },
 "nbformat": 4,
 "nbformat_minor": 5
}
