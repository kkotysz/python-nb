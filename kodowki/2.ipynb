{
 "cells": [
  {
   "cell_type": "markdown",
   "metadata": {},
   "source": [
    "# Kodówka: Instrukcje, Pętle i Inne\n",
    "\n",
    "Wykonaj poniższe zadania:"
   ]
  },
  {
   "cell_type": "markdown",
   "metadata": {},
   "source": [
    "## Zadanie 1: Pętla for\n",
    "\n",
    "Napisz pętlę `for` która wypisze liczby od 1 do 10."
   ]
  },
  {
   "cell_type": "code",
   "execution_count": null,
   "metadata": {},
   "outputs": [],
   "source": []
  },
  {
   "cell_type": "markdown",
   "metadata": {},
   "source": [
    "## Zadanie 2: Sumowanie elementów listy\n",
    "\n",
    "W pętli zsumuj listę liczb."
   ]
  },
  {
   "cell_type": "code",
   "execution_count": null,
   "metadata": {},
   "outputs": [
    {
     "name": "stdout",
     "output_type": "stream",
     "text": [
      "[13, 59, 51, 72, 33, 18, 62, 58, 27, 94, 15, 34, 98, 62, 5, 36, 47, 67, 53, 24]\n"
     ]
    }
   ],
   "source": [
    "numbers = [13, 59, 51, 72, 33, 18, 62, 58, 27, 94, 15, 34, 98, 62, 5, 36, 47, 67, 53, 24]\n",
    "print(numbers)"
   ]
  },
  {
   "cell_type": "markdown",
   "metadata": {},
   "source": [
    "## Zadanie 3: Obliczanie silni z użyciem pętli while\n",
    "\n",
    "Oblicz silnię liczby `n` przy użyciu pętli `while`."
   ]
  },
  {
   "cell_type": "code",
   "execution_count": null,
   "metadata": {},
   "outputs": [],
   "source": [
    "n=5"
   ]
  }
 ],
 "metadata": {
  "kernelspec": {
   "display_name": "base",
   "language": "python",
   "name": "python3"
  },
  "language_info": {
   "codemirror_mode": {
    "name": "ipython",
    "version": 3
   },
   "file_extension": ".py",
   "mimetype": "text/x-python",
   "name": "python",
   "nbconvert_exporter": "python",
   "pygments_lexer": "ipython3",
   "version": "3.11.8"
  }
 },
 "nbformat": 4,
 "nbformat_minor": 2
}
