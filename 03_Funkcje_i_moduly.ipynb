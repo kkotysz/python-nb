{
 "cells": [
  {
   "cell_type": "markdown",
   "id": "19aae3c7",
   "metadata": {},
   "source": [
    "# Funkcje i moduły w Pythonie - Notebook nr 3\n",
    "\n",
    "# Spis treści\n",
    "1. [Funkcje i ich argumenty](#funkcje)\n",
    "   - [Podstawy](#podstawy)\n",
    "   - [Wywoływanie funkcji](#wywolywanie)\n",
    "   - [Argumenty pozycyjne i kluczowe (`*args`, `**kwargs`)](#args-kwargs)\n",
    "2. [Zmienna lokalna i globalna](#zmienne)\n",
    "4. [Funkcje lambda](#lambda)\n",
    "4. [Moduły i przestrzenie nazw](#moduly)\n",
    "5. [Klauzula `__main__`](#main)\n"
   ]
  },
  {
   "cell_type": "markdown",
   "id": "18d74860",
   "metadata": {},
   "source": [
    "## <a id='funkcje'></a>1. Funkcje i ich argumenty\n",
    "Funkcje to wyodrębnione fragmenty kodu wykonujące określone zadania. Mogą przyjmować argumenty, zwracać wartości i być wykorzystywane wielokrotnie.\n",
    "\n",
    "### <a id='podstawy'></a>Podstawy definicji funkcji"
   ]
  },
  {
   "cell_type": "code",
   "execution_count": null,
   "id": "e7c64b22",
   "metadata": {},
   "outputs": [],
   "source": [
    "def funkcja(arg1, arg2, arg3):\n",
    "    print(arg1)\n",
    "    print(float(arg2) + float(arg3))\n",
    "    return float(arg2) - float(arg3)\n",
    "\n",
    "funkcja(10., 12., -7.4)"
   ]
  },
  {
   "cell_type": "markdown",
   "id": "ee3b2cce",
   "metadata": {},
   "source": [
    "### <a id='wywolywanie'></a>Wywoływanie funkcji\n",
    "\n",
    "Argumenty mogą być dowolnego typu. Nie wszystkie argumenty muszą być użyte w ciele funkcji. Możemy również tworzyć funkcje operujące na danych wejściowych w zależności od typu lub ilości argumentów."
   ]
  },
  {
   "cell_type": "code",
   "execution_count": null,
   "id": "e03a618e",
   "metadata": {},
   "outputs": [],
   "source": [
    "def licz(liczba1, liczba2, jak):\n",
    "    try:\n",
    "        l1 = float(liczba1)\n",
    "        l2 = float(liczba2)\n",
    "    except ValueError:\n",
    "        return \"Nieprawidłowy format danych wejściowych\"\n",
    "\n",
    "    if jak == \"+\":\n",
    "        wynik = l1 + l2\n",
    "    elif jak == \"-\":\n",
    "        wynik = l1 - l2\n",
    "    elif jak == \"*\":\n",
    "        wynik = l1 * l2\n",
    "    elif jak == \"/\":\n",
    "        wynik = l1 / l2\n",
    "    elif jak == \"**\":\n",
    "        wynik = l1 ** l2\n",
    "    else:\n",
    "        return \"Niedopuszczalne działanie\"\n",
    "    return wynik\n",
    "\n",
    "\n",
    "pierwsza = [2, 3, 4, 5, 6, 7, \"banan\"]\n",
    "druga = [3, 4, 5, 6, 7, 8, 9]\n",
    "dzialanie = [\"+\", \"-\", \"*\", \"/\", \"**\", \"banan\", \"+\"]\n",
    "for i in range(len(pierwsza)):\n",
    "    print(f\"Działanie: {pierwsza[i]} {dzialanie[i]} {druga[i]}\")\n",
    "    print(f\"Wynik    :\", licz(pierwsza[i], druga[i], dzialanie[i]))"
   ]
  },
  {
   "cell_type": "markdown",
   "id": "c2b4b753",
   "metadata": {},
   "source": [
    "### <a id='args-kwargs'></a>Argumenty pozycyjne i kluczowe (`*args`, `**kwargs`)\n",
    "Funkcje mogą przyjmować dowolną liczbę argumentów pozycyjnych (`*args`) i kluczowych (`**kwargs`)."
   ]
  },
  {
   "cell_type": "code",
   "execution_count": null,
   "id": "a01c9fea",
   "metadata": {},
   "outputs": [],
   "source": [
    "def funkcja(arg1, *args, kwarg1, kwarg2=7.0):\n",
    "    print(arg1)\n",
    "    print(*args)\n",
    "    print(kwarg1, kwarg2)\n",
    "\n",
    "funkcja(7, 7.5, -2, 77.2, kwarg1=\"19\", kwarg2=22)"
   ]
  },
  {
   "cell_type": "code",
   "execution_count": null,
   "id": "4bfdfeda",
   "metadata": {},
   "outputs": [],
   "source": [
    "def student(imie, nazwisko, **kwargs):\n",
    "    print(imie, nazwisko)\n",
    "    for cecha, wartosc in kwargs.items():\n",
    "        print(f\" {cecha}: {wartosc}\")\n",
    "\n",
    "student(\"Grzegorz\", \"Nijaki\", ocena=3.0, nieobecnosci=1, aktywnosc=4)\n",
    "student(\"Anna\", \"Nieobecna\", ocena=2.0, nieobecnosci=6, aktywnosc=1)\n",
    "student(\"Barbara\", \"Wzorowa\", ocena=5.0, nieobecnosci=0, aktywnosc=10)"
   ]
  },
  {
   "cell_type": "markdown",
   "id": "e3a5c99b",
   "metadata": {},
   "source": [
    "## <a id='zmienne'></a>2. Zmienne lokalne i globalne\n",
    "Zmienne globalne są widoczne w całym programie, lokalne tylko w obrębie funkcji.\n",
    "Zaleca się unikanie zmiennych globalnych."
   ]
  },
  {
   "cell_type": "code",
   "execution_count": null,
   "id": "f235f73b",
   "metadata": {},
   "outputs": [],
   "source": [
    "potrzebna_zmienna = 4.0\n",
    "def student(imie, nazwisko, **kwargs):\n",
    "    niepotrzebna_zmienna = 3.7\n",
    "    global zmienna_xxx\n",
    "    zmienna_xxx = 7.3\n",
    "    print(imie, nazwisko)\n",
    "    for cecha, wartosc in kwargs.items():\n",
    "        print(f\" {cecha}: {wartosc}\")\n",
    "\n",
    "nijaki = {\"ocena\": 3.0, \"nieobecnosci\": 1, \"aktywnosc\": 4}  # argumenty kwargs mozna przekazac jako slownik\n",
    "student(\"Grzegorz\", \"Nijaki\", **nijaki)\n",
    "\n",
    "print(zmienna_xxx) # zmienna_xxx jest globalna"
   ]
  },
  {
   "cell_type": "markdown",
   "id": "27596497",
   "metadata": {},
   "source": [
    "## <a id='lambda'></a>3. Funkcja (wyrażenie) `lambda`\n",
    "Lambda to szybki sposób na tworzenie funkcji jednowierszowych."
   ]
  },
  {
   "cell_type": "code",
   "execution_count": null,
   "id": "5572069d",
   "metadata": {},
   "outputs": [],
   "source": [
    "def pomnoz_dwie_liczby(a, b):\n",
    "    return a * b\n",
    "\n",
    "pomnoz = lambda a, b: a * b\n",
    "\n",
    "print(pomnoz_dwie_liczby(3, 7.7))\n",
    "print(pomnoz(3, 7.7))"
   ]
  },
  {
   "cell_type": "markdown",
   "id": "f837b59f",
   "metadata": {},
   "source": [
    "## <a id='moduly'></a>4. Moduły i przestrzenie nazw\n",
    "Można importować moduły na różne sposoby:\n",
    "- `import sys`\n",
    "- `from os import system as blabla`\n",
    "\n",
    "Moduły powinny być w plikach `.py` w katalogu widocznym dla Pythona."
   ]
  },
  {
   "cell_type": "code",
   "execution_count": null,
   "id": "2ffa6198",
   "metadata": {},
   "outputs": [],
   "source": [
    "import sys\n",
    "for path in sys.path:\n",
    "    print(path)"
   ]
  },
  {
   "cell_type": "markdown",
   "id": "ddce4809",
   "metadata": {},
   "source": [
    "Moduł `builtins` - przestrzeń nazw wbudowanych"
   ]
  },
  {
   "cell_type": "code",
   "execution_count": null,
   "id": "cfc2c504",
   "metadata": {},
   "outputs": [],
   "source": [
    "import builtins\n",
    "print(dir(builtins))"
   ]
  },
  {
   "cell_type": "markdown",
   "id": "62cafb53",
   "metadata": {},
   "source": [
    "## <a id='main'></a>5. Klauzula `__main__`\n",
    "\n",
    "Dzięki `if __name__ == \"__main__\"`, kod wewnątrz tego bloku wykona się tylko wtedy, gdy plik jest uruchamiany bezpośrednio.\n",
    "\n",
    "### Uruchomienie pliku:\n",
    "```bash\n",
    "python3 understand_name_main.py\n",
    "```\n",
    "Wynik:\n",
    "```\n",
    "Executing step1...\n",
    "Executing step2...\n",
    "Executing step3...\n",
    "```\n",
    "### Import modułu w innym pliku:\n",
    "```python\n",
    "import understand_name_main\n",
    "understand_name_main.step1()\n",
    "```"
   ]
  },
  {
   "cell_type": "code",
   "execution_count": null,
   "id": "7352e793",
   "metadata": {},
   "outputs": [],
   "source": [
    "# understand_name_main.py\n",
    "def step1():\n",
    "    print(__name__)\n",
    "    print(\"Executing step1...\")\n",
    "\n",
    "def step2():\n",
    "    print(__name__)\n",
    "    print(\"Executing step2...\")\n",
    "\n",
    "def step3():\n",
    "    print(__name__)\n",
    "    print(\"Executing step3...\")\n",
    "\n",
    "if __name__ == \"__main__\":\n",
    "    step1()\n",
    "    step2()\n",
    "    step3()"
   ]
  },
  {
   "cell_type": "code",
   "execution_count": null,
   "id": "de7f1c34",
   "metadata": {},
   "outputs": [],
   "source": [
    "import understand_name_main\n",
    "understand_name_main.step1()\n",
    "understand_name_main.step2()\n",
    "understand_name_main.step3()"
   ]
  }
 ],
 "metadata": {
  "kernelspec": {
   "display_name": "base",
   "language": "python",
   "name": "python3"
  },
  "language_info": {
   "codemirror_mode": {
    "name": "ipython",
    "version": 3
   },
   "file_extension": ".py",
   "mimetype": "text/x-python",
   "name": "python",
   "nbconvert_exporter": "python",
   "pygments_lexer": "ipython3",
   "version": "3.11.8"
  }
 },
 "nbformat": 4,
 "nbformat_minor": 5
}
