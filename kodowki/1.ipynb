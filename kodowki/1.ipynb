{
 "cells": [
  {
   "cell_type": "markdown",
   "metadata": {},
   "source": [
    "# Kodówka: Wprowadzenie do Pythona"
   ]
  },
  {
   "cell_type": "markdown",
   "metadata": {},
   "source": [
    "## Zadanie 1: Powitanie\n",
    "\n",
    "Wypisz na ekranie napis **\"Hello, World!\"**."
   ]
  },
  {
   "cell_type": "code",
   "execution_count": null,
   "metadata": {},
   "outputs": [],
   "source": []
  },
  {
   "cell_type": "markdown",
   "metadata": {},
   "source": [
    "## Zadanie 2: Obliczanie pola prostokąta\n",
    "\n",
    "Wylicz pole prostokąta na o bokach **a = 20 cm** i **b = 30 cm**. Wypisz jego pole w cm^2."
   ]
  },
  {
   "cell_type": "code",
   "execution_count": null,
   "metadata": {},
   "outputs": [],
   "source": []
  },
  {
   "cell_type": "markdown",
   "metadata": {},
   "source": [
    "## Zadanie 3: Łączenie napisów\n",
    "\n",
    "Połącz podane zmienne typu `string` w jedną i wypisz na ekran"
   ]
  },
  {
   "cell_type": "code",
   "execution_count": null,
   "metadata": {},
   "outputs": [
    {
     "name": "stdout",
     "output_type": "stream",
     "text": [
      "Hello Python\n"
     ]
    }
   ],
   "source": [
    "greet=\"Hello\"\n",
    "lang=\"Python\""
   ]
  },
  {
   "cell_type": "markdown",
   "metadata": {},
   "source": [
    "## Zadanie 4: Dana jest lista składająca się z losowych liczb od 0 do 9. Wykonaj następujące operacje:\n",
    " - wypisz jej pierwszy i ostatni element\n",
    " - policz ile elementów się w niej znajduje\n",
    " - zlicz ile razy występuje w niej `0`\n"
   ]
  },
  {
   "cell_type": "code",
   "execution_count": 21,
   "metadata": {},
   "outputs": [
    {
     "name": "stdout",
     "output_type": "stream",
     "text": [
      "[5, 4, 8, 1, 9, 6, 5, 3, 6, 5, 5, 6, 5, 4, 8, 3, 5, 0, 3, 2, 4, 0, 4, 6, 8, 0, 2, 0, 3, 1, 2, 8, 1, 3, 8, 3, 9, 3, 6, 4, 1, 1, 9, 7, 5, 9, 8, 1, 4, 7, 8, 7, 4, 2, 3, 5, 7, 5, 8, 5, 9, 4, 7, 9, 1, 9, 4, 9, 7, 4, 4, 4, 9, 6, 3, 7, 8, 4, 5, 0, 0, 8, 9, 7, 8, 0, 1, 2, 3, 8, 5, 2, 7, 3, 7, 9, 0, 2, 5]\n"
     ]
    }
   ],
   "source": [
    "import random\n",
    "lista = [random.randint(0,9) for _ in range(99)]\n",
    "print(lista)"
   ]
  },
  {
   "cell_type": "code",
   "execution_count": null,
   "metadata": {},
   "outputs": [],
   "source": []
  }
 ],
 "metadata": {
  "kernelspec": {
   "display_name": "base",
   "language": "python",
   "name": "python3"
  },
  "language_info": {
   "codemirror_mode": {
    "name": "ipython",
    "version": 3
   },
   "file_extension": ".py",
   "mimetype": "text/x-python",
   "name": "python",
   "nbconvert_exporter": "python",
   "pygments_lexer": "ipython3",
   "version": "3.11.8"
  }
 },
 "nbformat": 4,
 "nbformat_minor": 2
}
