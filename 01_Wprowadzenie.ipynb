{
    "cells": [
        {
            "cell_type": "markdown",
            "id": "b6b46b15",
            "metadata": {},
            "source": [
                "# Wprowadzenie do Pythona - Notebook nr 1\n",
                "\n",
                "## Spis treści\n",
                "1.  [Uruchomienie](#1.-Uruchomienie)\n",
                "2.  [Importowanie modułów](#2.-Importowanie-modułów)\n",
                "3.  [Funkcja `dir()`](#3.-Funkcja-dir\\(\\))\n",
                "4.  [Komentowanie](#4.-Komentowanie)\n",
                "5.  [Podstawowe Typy Danych](#5.-Podstawowe-Typy-Danych)\n",
                "6.  [Operacje Arytmetyczne i Funkcje Wbudowane](#6.-Operacje-Arytmetyczne-i-Funkcje-Wbudowane)\n",
                "7.  [Sekwencyjne Typy Danych](#7.-Sekwencyjne-Typy-Danych)\n",
                "8.  [Działanie na listach](#8.-Dzia\\lanie-na-listach)\n",
                "9. [Operacje Logiczne i Porównania](#9.-Operacje-Logiczne-i-Por\\ownania)\n",
                "10. [Obsługa Błędów i Wyjątków](#10.-Obsługa-Błędów-i-Wyjątków)\n",
                "11. [Wyrażenia zastrzeżone](#11.-Wyrażenia-zastrzeżone)\n",
                "12. [Instrukcje Wejścia](#12.-Instrukcje-Wejścia)\n",
                "13. [PEP8 i Zen of Python](#13.-PEP8-i-Zen-of-Python)\n"
            ]
        },
        {
            "cell_type": "markdown",
            "metadata": {},
            "source": [
                "## 1. Uruchomienie\n",
                "\n",
                "Sprawdź wersję Pythona oraz zainstalowane pakiety. W terminalu możesz użyć poleceń:\n",
                "```bash\n",
                "python --version\n",
                "pip --version\n",
                "```\n",
                "\n",
                "Uruchomienie Notebooka: `jupyter notebook`"
            ]
        },
        {
            "cell_type": "code",
            "execution_count": null,
            "metadata": {},
            "outputs": [],
            "source": [
                "# Sprawdzenie wersji Pythona\n",
                "import sys\n",
                "print('Wersja Pythona:', sys.version)"
            ]
        },
        {
            "cell_type": "markdown",
            "id": "b7dd3d48",
            "metadata": {},
            "source": [
                "## 2. Importowanie modułów\n",
                "\n",
                "W Pythonie moduły importujemy za pomocą instrukcji:\n",
                "```python\n",
                "import nazwa_modułu\n",
                "```\n",
                "\n",
                "Możemy także zdefiniować alias:\n",
                "```python\n",
                "import nazwa_modułu as alias\n",
                "```\n",
                "\n",
                "Przykładowo:\n",
                "```python\n",
                "import math as m\n",
                "```\n",
                "\n",
                "Zwróć uwagę, że jeśli moduł został już zaimportowany w innym miejscu Notebooka, nie ma potrzeby ponownego importu, chyba że chcesz go załadować ponownie lub zmienić alias."
            ]
        },
        {
            "cell_type": "code",
            "execution_count": null,
            "id": "1dddfb9d",
            "metadata": {},
            "outputs": [],
            "source": [
                "import random\n",
                "import math as m\n",
                "\n",
                "print(\"Losowa liczba z zakresu 0-1: \", random.random())\n",
                "print(\"Liczbę Pi: \", m.pi)\n",
                "print(\"Pierwiastek z 2: \", m.sqrt(2))\n"
            ]
        },
        {
            "cell_type": "markdown",
            "id": "96e51cb9",
            "metadata": {},
            "source": [
                "## 3. Funkcja `dir()`\n",
                "Funkcja dir() zwraca listę atrybutów i metod dostępnych dla danego obiektu. Jeśli nie podamy argumentu, zwróci listę nazw w bieżącym zakresie.\n"
            ]
        },
        {
            "cell_type": "code",
            "execution_count": null,
            "id": "0e65fb3f",
            "metadata": {},
            "outputs": [],
            "source": [
                "# Przykład użycia dir() bez argumentu\n",
                "print(\"Atrybuty i metody w bieżącym zakresie: \", dir())\n",
                "\n",
                "# Przykład użycia dir() z argumentem - moduł math z wcześniejszego przykładu\n",
                "print(\"Atrybuty i metody modułu math: \", dir(m))"
            ]
        },
        {
            "cell_type": "markdown",
            "id": "20f5a32d",
            "metadata": {},
            "source": [
                "## 4. Komentowanie\n",
                "\n",
                "W Pythonie komentarze uzyskuje się przez poprzedzenie linii kodu znakiem **'#'**. Można też użyć potrójnego cudzysłowia żeby uzyskać efekt blokowego komentarza, ale interpretor Pythona nadal widzi taki blok jako łańcuch znaków, a nie prawdziwy komentarz. Taki blok tekstu nazywany jest docstringiem i używa się go do opisu funkcji, klas lub modułów."
            ]
        },
        {
            "cell_type": "code",
            "execution_count": null,
            "id": "6089c8f2",
            "metadata": {},
            "outputs": [],
            "source": [
                "# To jest komentarz jednoliniowy\n",
                "print(\"To nie jest komentarz\")  # To jest komentarz na końcu linii\n",
                "\n",
                "\"\"\"\n",
                "To jest blok tekstu, który może być użyty jako komentarz wieloliniowy,\n",
                "ale w rzeczywistości jest to łańcuch znaków, który nie jest przypisany do żadnej zmiennej.\n",
                "Interpretor Pythona go zignoruje, ale nie jest to prawdziwy komentarz.\n",
                "\"\"\"\n",
                "print(\"Kolejna linia kodu\")"
            ]
        },
        {
            "cell_type": "markdown",
            "metadata": {},
            "source": [
                "## 5. Podstawowe Typy Danych\n",
                "\n",
                "Poniżej znajdują się przykłady podstawowych typów danych w Pythonie:"
            ]
        },
        {
            "cell_type": "code",
            "execution_count": null,
            "metadata": {},
            "outputs": [],
            "source": [
                "# Liczby całkowite (int)\n",
                "a = 2022\n",
                "print('a (int):', a, type(a))\n",
                "\n",
                "# Liczby zmiennoprzecinkowe (float)\n",
                "b = 3.1415\n",
                "print('b (float):', b, type(b))\n",
                "\n",
                "# Liczby zespolone (complex)\n",
                "c = 2 + 3j\n",
                "print('c (complex):', c, type(c))\n",
                "\n",
                "# Typ logiczny (bool)\n",
                "prawda = True\n",
                "falsz = False\n",
                "print('prawda (bool):', prawda, type(prawda))\n",
                "\n",
                "# Łańcuchy znaków (str)\n",
                "s = 'Python jest najlepszy'\n",
                "print('s (str):', s, type(s))"
            ]
        },
        {
            "cell_type": "markdown",
            "metadata": {},
            "source": [
                "## 6. Operacje Arytmetyczne i Funkcje Wbudowane\n",
                "\n",
                "Przykłady operacji arytmetycznych oraz użycia funkcji wbudowanych takich jak `abs()` czy `pow()`."
            ]
        },
        {
            "cell_type": "code",
            "execution_count": null,
            "metadata": {},
            "outputs": [],
            "source": [
                "# Dodawanie, odejmowanie, mnożenie, dzielenie\n",
                "x = 7\n",
                "y = 3\n",
                "print('x + y =', x + y)\n",
                "print('x - y =', x - y)\n",
                "print('x * y =', x * y)\n",
                "print('x / y =', x / y)    # dzielenie zmiennoprzecinkowe\n",
                "print('x // y =', x // y)  # dzielenie całkowite\n",
                "print('x % y =', x % y)    # dzielenie modulo\n",
                "print('x ** y =', x ** y)  # potęgowanie\n",
                "\n",
                "# Funkcje wbudowane\n",
                "print('abs(-10) =', abs(-10))   # wartość bezwzględna\n",
                "print('pow(2, 3) =', pow(2, 3)) # potęgowanie"
            ]
        },
        {
            "cell_type": "markdown",
            "metadata": {},
            "source": [
                "## 7. Sekwencyjne Typy Danych\n",
                "### Łańcuchy, Listy, Krotki, Range\n",
                "\n",
                "Przykłady pracy z sekwencyjnymi typami danych:"
            ]
        },
        {
            "cell_type": "code",
            "execution_count": null,
            "metadata": {},
            "outputs": [],
            "source": [
                "# Łańcuchy (string)\n",
                "text = \"Witaj w Pythonie!\"\n",
                "print('Pierwszy znak:', text[0])\n",
                "print('Ostatni znak:', text[-1])\n",
                "print('Fragment:', text[6:12])\n",
                "print('Fragment od początku do 7 znaku:', text[:7])\n",
                "print('Fragment od 8 znaku do końca:', text[8:])\n",
                "print('Fragment i co drugi znak:', text[1:9:2])\n",
                "# Listy\n",
                "lista = [1, 3, 5, 'Python', True]\n",
                "print('Lista:', lista)\n",
                "print('Drugi element listy:', lista[1])\n",
                "lista.append(42)\n",
                "print('Lista po dodaniu elementu:', lista)\n",
                "del lista[1]\n",
                "print('Lista po usunięciu elementu:', lista)\n",
                "\n",
                "# Krotki\n",
                "krotka = (10, 20, 30, 'data')\n",
                "print('Krotka:', krotka)\n",
                "\n",
                "# Zakres (range)\n",
                "r = range(0, 10)\n",
                "print('Range jako lista:', list(r))"
            ]
        },
        {
            "cell_type": "markdown",
            "id": "07c4d70a",
            "metadata": {},
            "source": [
                "## 8. Działanie na listach\n",
                "Przykładowe wbudowane funkcje i metody ułatwiające operowanie na listach:\n",
                " - `split()` tworzy listę ze łańcucha znaków\n",
                " - `len()` zwraca długość listy\n",
                " - `count()` zwraca liczbę wystąpień wskazanego elementu\n",
                " - `remove()` usuwa pierwsze wystąpienie wskazanego elementu\n"
            ]
        },
        {
            "cell_type": "code",
            "execution_count": null,
            "id": "e5a88e4d",
            "metadata": {},
            "outputs": [],
            "source": [
                "s = \"Python jest najlepszem językiem programowania\"\n",
                "text_list = s.split()\n",
                "print(\"Wynik split():\", text_list)\n",
                "print(\"Długość listy 'lista':\", len(text_list))\n",
                "print(\"Ile razy 'jest' pojawia się w 'lista':\", text_list.count(\"jest\"))\n",
                "\n",
                "if \"Python\" in text_list:\n",
                "    text_list.remove(\"Python\")\n",
                "    print(\"Usunięto 'Python' z 'lista':\", text_list)"
            ]
        },
        {
            "cell_type": "markdown",
            "metadata": {},
            "source": [
                "## 9. Operacje Logiczne i Porównania\n",
                "\n",
                "Przykłady użycia operatorów logicznych oraz porównań:"
            ]
        },
        {
            "cell_type": "code",
            "execution_count": null,
            "metadata": {},
            "outputs": [],
            "source": [
                "a = 10\n",
                "b = 20\n",
                "\n",
                "# Operatory porównania\n",
                "print('a < b:', a < b)\n",
                "print('a == b:', a == b)\n",
                "print('a != b:', a != b)\n",
                "\n",
                "# Operatory logiczne\n",
                "x = True\n",
                "y = False\n",
                "print('x and y:', x and y)\n",
                "print('x or y:', x or y)\n",
                "print('not x:', not x)\n",
                "# porównanie is/is not\n",
                "x = 10\n",
                "y = 10\n",
                "print('x is a:', x is a)\n",
                "print('y is not b:', y is not b)"
            ]
        },
        {
            "cell_type": "markdown",
            "metadata": {},
            "source": [
                "## 10. Obsługa Błędów i Wyjątków\n",
                "\n",
                "Przykład obsługi wyjątków w Pythonie:"
            ]
        },
        {
            "cell_type": "code",
            "execution_count": null,
            "metadata": {},
            "outputs": [],
            "source": [
                "try:\n",
                "    wynik = 10 / 0\n",
                "except ZeroDivisionError as e:\n",
                "    print('Błąd dzielenia przez zero:', e)\n",
                "finally:\n",
                "    print('Operacja zakończona.')"
            ]
        },
        {
            "cell_type": "markdown",
            "id": "240fc0a4",
            "metadata": {},
            "source": [
                "Więcej informacji: https://docs.python.org/3/tutorial/errors.html"
            ]
        },
        {
            "cell_type": "markdown",
            "id": "3752b4b1",
            "metadata": {},
            "source": [
                "## 11. Wyrażenia zastrzeżone\n",
                "\n",
                "W  Pythonie istnieje  szereg  zastrzeżonych  wyrażeń.  Jest  to  swego  rodzaju paradygmat programowania. W każdym języku istnieją takie słowa. Takich słów nie można używać do przypisywania zmiennych. Aby dowiedzieć się więcej o słowach zastrzeżonych wystarczy:"
            ]
        },
        {
            "cell_type": "code",
            "execution_count": null,
            "id": "24157921",
            "metadata": {},
            "outputs": [],
            "source": [
                "import keyword\n",
                "print('Lista słów kluczowych:', keyword.kwlist)"
            ]
        },
        {
            "cell_type": "code",
            "execution_count": null,
            "id": "72809ed9",
            "metadata": {},
            "outputs": [],
            "source": [
                "# Takie przypisanie zwróci błąd\n",
                "try = 10"
            ]
        },
        {
            "cell_type": "markdown",
            "metadata": {},
            "source": [
                "## 12. Instrukcje Wejścia\n",
                "\n",
                "Przykład pobierania danych od użytkownika za pomocą funkcji `input()` oraz `eval(input())`."
            ]
        },
        {
            "cell_type": "code",
            "execution_count": null,
            "metadata": {},
            "outputs": [],
            "source": [
                "# Pobieranie danych jako string\n",
                "user_input = input('Wpisz coś: ')\n",
                "print('Wpisano:', user_input, 'oraz typ:', type(user_input))\n",
                "\n",
                "# Pobieranie danych i konwersja za pomocą eval (uwaga: używać ostrożnie!)\n",
                "# Wpisz np. 123, 3.14 lub True\n",
                "try:\n",
                "    user_value = eval(input('Wpisz wartość (np. 123, 3.14, True): '))\n",
                "    print('Wpisana wartość:', user_value, 'oraz typ:', type(user_value))\n",
                "except Exception as e:\n",
                "    print('Wystąpił błąd:', e)"
            ]
        },
        {
            "cell_type": "markdown",
            "id": "b59d0317",
            "metadata": {},
            "source": [
                "## 13. PEP8 i Zen of Python\n",
                "\n",
                "Przestrzegaj standardów PEP-8. Aby zobaczyć Zen of Python, wykonaj poniższy kod:"
            ]
        },
        {
            "cell_type": "code",
            "execution_count": null,
            "metadata": {},
            "outputs": [],
            "source": [
                "import this"
            ]
        }
    ],
    "metadata": {
        "kernelspec": {
            "display_name": "base",
            "language": "python",
            "name": "python3"
        },
        "language_info": {
            "codemirror_mode": {
                "name": "ipython",
                "version": 3
            },
            "file_extension": ".py",
            "mimetype": "text/x-python",
            "name": "python",
            "nbconvert_exporter": "python",
            "pygments_lexer": "ipython3",
            "version": "3.11.8"
        }
    },
    "nbformat": 4,
    "nbformat_minor": 5
}
