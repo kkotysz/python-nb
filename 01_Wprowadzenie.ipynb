{
    "cells": [
        {
            "cell_type": "markdown",
            "id": "b6b46b15",
            "metadata": {},
            "source": [
                "# Wprowadzenie do Pythona - Notebook nr 1\n",
                "\n",
                "## Spis treści\n",
                "1.  [Uruchomienie](#Uruchomienie)\n",
                "2.  [Importowanie modułów](#Importowanie-modułów)\n",
                "3.  [Funkcja `dir()`](#Funkcja-dir\\(\\))\n",
                "4.  [Komentowanie](#Komentowanie)\n",
                "5.  [Podstawowe Typy Danych](#Podstawowe-Typy-Danych)\n",
                "6.  [Operacje Arytmetyczne i Funkcje Wbudowane](#Operacje-Arytmetyczne-i-Funkcje-Wbudowane)\n",
                "7.  [Sekwencyjne Typy Danych](#Sekwencyjne-Typy-Danych)\n",
                "8.  [Działanie na listach](#Dzia\\łanie-na-listach)\n",
                "9. [Operacje Logiczne i Porównania](#Operacje-Logiczne-i-Porównania)\n",
                "10. [Obsługa Błędów i Wyjątków](#Obsługa-Błędów-i-Wyjątków)\n",
                "11. [Wyrażenia zastrzeżone](#Wyrażenia-zastrzeżone)\n",
                "12. [Instrukcje Wejścia](#Instrukcje-Wejścia)\n",
                "13. [PEP8 i Zen of Python](#PEP8-i-Zen-of-Python)\n"
            ]
        },
        {
            "cell_type": "markdown",
            "metadata": {},
            "source": [
                "## Uruchomienie\n",
                "\n",
                "Sprawdź wersję Pythona oraz zainstalowane pakiety. W terminalu możesz użyć poleceń:\n",
                "```bash\n",
                "python --version\n",
                "pip --version\n",
                "```\n",
                "\n",
                "Uruchomienie Notebooka: `jupyter notebook`"
            ]
        },
        {
            "cell_type": "code",
            "execution_count": 1,
            "metadata": {},
            "outputs": [
                {
                    "name": "stdout",
                    "output_type": "stream",
                    "text": [
                        "Wersja Pythona: 3.11.8 (main, Feb 26 2024, 21:39:34) [GCC 11.2.0]\n"
                    ]
                }
            ],
            "source": [
                "# Sprawdzenie wersji Pythona\n",
                "import sys\n",
                "print('Wersja Pythona:', sys.version)"
            ]
        },
        {
            "cell_type": "markdown",
            "id": "b7dd3d48",
            "metadata": {},
            "source": [
                "## Importowanie modułów\n",
                "\n",
                "W Pythonie moduły importujemy za pomocą instrukcji:\n",
                "```python\n",
                "import nazwa_modułu\n",
                "```\n",
                "\n",
                "Możemy także zdefiniować alias:\n",
                "```python\n",
                "import nazwa_modułu as alias\n",
                "```\n",
                "\n",
                "Przykładowo:\n",
                "```python\n",
                "import math as m\n",
                "```\n",
                "\n",
                "Zwróć uwagę, że jeśli moduł został już zaimportowany w innym miejscu Notebooka, nie ma potrzeby ponownego importu, chyba że chcesz go załadować ponownie lub zmienić alias."
            ]
        },
        {
            "cell_type": "code",
            "execution_count": 1,
            "id": "1dddfb9d",
            "metadata": {},
            "outputs": [
                {
                    "name": "stdout",
                    "output_type": "stream",
                    "text": [
                        "Losowa liczba z zakresu 0-1:  0.9126542610135024\n",
                        "Liczbę Pi:  3.141592653589793\n",
                        "Pierwiastek z 2:  1.4142135623730951\n"
                    ]
                }
            ],
            "source": [
                "import random\n",
                "import math as m\n",
                "\n",
                "print(\"Losowa liczba z zakresu 0-1: \", random.random())\n",
                "print(\"Liczbę Pi: \", m.pi)\n",
                "print(\"Pierwiastek z 2: \", m.sqrt(2))\n"
            ]
        },
        {
            "cell_type": "markdown",
            "id": "96e51cb9",
            "metadata": {},
            "source": [
                "## Funkcja `dir()`\n",
                "Funkcja dir() zwraca listę atrybutów i metod dostępnych dla danego obiektu. Jeśli nie podamy argumentu, zwróci listę nazw w bieżącym zakresie.\n"
            ]
        },
        {
            "cell_type": "code",
            "execution_count": 55,
            "id": "0e65fb3f",
            "metadata": {},
            "outputs": [
                {
                    "name": "stdout",
                    "output_type": "stream",
                    "text": [
                        "Atrybuty i metody w bieżącym zakresie:  ['In', 'Out', '_', '__', '___', '__builtin__', '__builtins__', '__doc__', '__loader__', '__name__', '__package__', '__spec__', '__vsc_ipynb_file__', '_dh', '_i', '_i1', '_i10', '_i11', '_i12', '_i13', '_i14', '_i15', '_i16', '_i17', '_i18', '_i19', '_i2', '_i20', '_i21', '_i22', '_i23', '_i24', '_i25', '_i26', '_i27', '_i28', '_i29', '_i3', '_i30', '_i31', '_i32', '_i33', '_i34', '_i35', '_i36', '_i37', '_i38', '_i39', '_i4', '_i40', '_i41', '_i42', '_i43', '_i44', '_i45', '_i46', '_i47', '_i48', '_i49', '_i5', '_i50', '_i51', '_i52', '_i53', '_i54', '_i55', '_i6', '_i7', '_i8', '_i9', '_ih', '_ii', '_iii', '_oh', 'a', 'b', 'c', 'exit', 'falsz', 'get_ipython', 'keyword', 'krotka', 'lista', 'm', 'open', 'plt', 'prawda', 'quit', 'r', 'random', 's', 'sys', 'text', 'text_list', 'this', 'user_input', 'user_value', 'x', 'y']\n",
                        "Atrybuty i metody modułu math:  ['__doc__', '__file__', '__loader__', '__name__', '__package__', '__spec__', 'acos', 'acosh', 'asin', 'asinh', 'atan', 'atan2', 'atanh', 'cbrt', 'ceil', 'comb', 'copysign', 'cos', 'cosh', 'degrees', 'dist', 'e', 'erf', 'erfc', 'exp', 'exp2', 'expm1', 'fabs', 'factorial', 'floor', 'fmod', 'frexp', 'fsum', 'gamma', 'gcd', 'hypot', 'inf', 'isclose', 'isfinite', 'isinf', 'isnan', 'isqrt', 'lcm', 'ldexp', 'lgamma', 'log', 'log10', 'log1p', 'log2', 'modf', 'nan', 'nextafter', 'perm', 'pi', 'pow', 'prod', 'radians', 'remainder', 'sin', 'sinh', 'sqrt', 'tan', 'tanh', 'tau', 'trunc', 'ulp']\n"
                    ]
                }
            ],
            "source": [
                "# Przykład użycia dir() bez argumentu\n",
                "print(\"Atrybuty i metody w bieżącym zakresie: \", dir())\n",
                "\n",
                "# Przykład użycia dir() z argumentem - moduł math z wcześniejszego przykładu\n",
                "print(\"Atrybuty i metody modułu math: \", dir(m))"
            ]
        },
        {
            "cell_type": "markdown",
            "id": "20f5a32d",
            "metadata": {},
            "source": [
                "## Komentowanie\n",
                "\n",
                "W Pythonie komentarze uzyskuje się przez poprzedzenie linii kodu znakiem **'#'**. Można też użyć potrójnego cudzysłowia żeby uzyskać efekt blokowego komentarza, ale interpretor Pythona nadal widzi taki blok jako łańcuch znaków, a nie prawdziwy komentarz. Taki blok tekstu nazywany jest docstringiem i używa się go do opisu funkcji, klas lub modułów."
            ]
        },
        {
            "cell_type": "code",
            "execution_count": 22,
            "id": "6089c8f2",
            "metadata": {},
            "outputs": [
                {
                    "name": "stdout",
                    "output_type": "stream",
                    "text": [
                        "To nie jest komentarz\n",
                        "Kolejna linia kodu\n"
                    ]
                }
            ],
            "source": [
                "# To jest komentarz jednoliniowy\n",
                "print(\"To nie jest komentarz\")  # To jest komentarz na końcu linii\n",
                "\n",
                "\"\"\"\n",
                "To jest blok tekstu, który może być użyty jako komentarz wieloliniowy,\n",
                "ale w rzeczywistości jest to łańcuch znaków, który nie jest przypisany do żadnej zmiennej.\n",
                "Interpretor Pythona go zignoruje, ale nie jest to prawdziwy komentarz.\n",
                "\"\"\"\n",
                "print(\"Kolejna linia kodu\")"
            ]
        },
        {
            "cell_type": "markdown",
            "metadata": {},
            "source": [
                "## Podstawowe Typy Danych\n",
                "\n",
                "Poniżej znajdują się przykłady podstawowych typów danych w Pythonie:"
            ]
        },
        {
            "cell_type": "code",
            "execution_count": 2,
            "metadata": {},
            "outputs": [
                {
                    "name": "stdout",
                    "output_type": "stream",
                    "text": [
                        "a (int): 2022 <class 'int'>\n",
                        "b (float): 3.1415 <class 'float'>\n",
                        "c (complex): (2+3j) <class 'complex'>\n",
                        "prawda (bool): True <class 'bool'>\n",
                        "s (str): Python jest najlepszy <class 'str'>\n"
                    ]
                }
            ],
            "source": [
                "# Liczby całkowite (int)\n",
                "a = 2022\n",
                "print('a (int):', a, type(a))\n",
                "\n",
                "# Liczby zmiennoprzecinkowe (float)\n",
                "b = 3.1415\n",
                "print('b (float):', b, type(b))\n",
                "\n",
                "# Liczby zespolone (complex)\n",
                "c = 2 + 3j\n",
                "print('c (complex):', c, type(c))\n",
                "\n",
                "# Typ logiczny (bool)\n",
                "prawda = True\n",
                "falsz = False\n",
                "print('prawda (bool):', prawda, type(prawda))\n",
                "\n",
                "# Łańcuchy znaków (str)\n",
                "s = 'Python jest najlepszy'\n",
                "print('s (str):', s, type(s))"
            ]
        },
        {
            "cell_type": "markdown",
            "metadata": {},
            "source": [
                "## Operacje Arytmetyczne i Funkcje Wbudowane\n",
                "\n",
                "Przykłady operacji arytmetycznych oraz użycia funkcji wbudowanych takich jak `abs()` czy `pow()`."
            ]
        },
        {
            "cell_type": "code",
            "execution_count": 31,
            "metadata": {},
            "outputs": [
                {
                    "name": "stdout",
                    "output_type": "stream",
                    "text": [
                        "x + y = 10\n",
                        "x - y = 4\n",
                        "x * y = 21\n",
                        "x / y = 2.3333333333333335\n",
                        "x // y = 2\n",
                        "x % y = 1\n",
                        "x ** y = 343\n",
                        "abs(-10) = 10\n",
                        "pow(2, 3) = 8\n"
                    ]
                }
            ],
            "source": [
                "# Dodawanie, odejmowanie, mnożenie, dzielenie\n",
                "x = 7\n",
                "y = 3\n",
                "print('x + y =', x + y)\n",
                "print('x - y =', x - y)\n",
                "print('x * y =', x * y)\n",
                "print('x / y =', x / y)    # dzielenie zmiennoprzecinkowe\n",
                "print('x // y =', x // y)  # dzielenie całkowite\n",
                "print('x % y =', x % y)    # dzielenie modulo\n",
                "print('x ** y =', x ** y)  # potęgowanie\n",
                "\n",
                "# Funkcje wbudowane\n",
                "print('abs(-10) =', abs(-10))   # wartość bezwzględna\n",
                "print('pow(2, 3) =', pow(2, 3)) # potęgowanie"
            ]
        },
        {
            "cell_type": "markdown",
            "metadata": {},
            "source": [
                "## Sekwencyjne Typy Danych\n",
                "### Łańcuchy, Listy, Krotki, Range\n",
                "\n",
                "Przykłady pracy z sekwencyjnymi typami danych:"
            ]
        },
        {
            "cell_type": "code",
            "execution_count": 33,
            "metadata": {},
            "outputs": [
                {
                    "name": "stdout",
                    "output_type": "stream",
                    "text": [
                        "Pierwszy znak: W\n",
                        "Ostatni znak: !\n",
                        "Fragment: w Pyth\n",
                        "Fragment od początku do 7 znaku: Witaj w\n",
                        "Fragment od 8 znaku do końca: Pythonie!\n",
                        "Fragment i co drugi znak: ia  \n",
                        "Lista: [1, 3, 5, 'Python', True]\n",
                        "Drugi element listy: 3\n",
                        "Lista po dodaniu elementu: [1, 3, 5, 'Python', True, 42]\n",
                        "Lista po usunięciu elementu: [1, 5, 'Python', True, 42]\n",
                        "Krotka: (10, 20, 30, 'data')\n",
                        "Range jako lista: [0, 1, 2, 3, 4, 5, 6, 7, 8, 9]\n"
                    ]
                }
            ],
            "source": [
                "# Łańcuchy (string)\n",
                "text = \"Witaj w Pythonie!\"\n",
                "print('Pierwszy znak:', text[0])\n",
                "print('Ostatni znak:', text[-1])\n",
                "print('Fragment:', text[6:12])\n",
                "print('Fragment od początku do 7 znaku:', text[:7])\n",
                "print('Fragment od 8 znaku do końca:', text[8:])\n",
                "print('Fragment i co drugi znak:', text[1:9:2])\n",
                "# Listy\n",
                "lista = [1, 3, 5, 'Python', True]\n",
                "print('Lista:', lista)\n",
                "print('Drugi element listy:', lista[1])\n",
                "lista.append(42)\n",
                "print('Lista po dodaniu elementu:', lista)\n",
                "del lista[1]\n",
                "print('Lista po usunięciu elementu:', lista)\n",
                "\n",
                "# Krotki\n",
                "krotka = (10, 20, 30, 'data')\n",
                "print('Krotka:', krotka)\n",
                "\n",
                "# Zakres (range)\n",
                "r = range(0, 10)\n",
                "print('Range jako lista:', list(r))"
            ]
        },
        {
            "cell_type": "markdown",
            "id": "07c4d70a",
            "metadata": {},
            "source": [
                "## Działanie na listach\n",
                "Przykładowe wbudowane funkcje i metody ułatwiające operowanie na listach:\n",
                " - `split()` tworzy listę ze łańcucha znaków\n",
                " - `len()` zwraca długość listy\n",
                " - `count()` zwraca liczbę wystąpień wskazanego elementu\n",
                " - `remove()` usuwa pierwsze wystąpienie wskazanego elementu\n"
            ]
        },
        {
            "cell_type": "code",
            "execution_count": 44,
            "id": "e5a88e4d",
            "metadata": {},
            "outputs": [
                {
                    "name": "stdout",
                    "output_type": "stream",
                    "text": [
                        "Wynik split(): ['Python', 'jest', 'najlepszem', 'językiem', 'programowania']\n",
                        "Długość listy 'lista': 5\n",
                        "Ile razy 'jest' pojawia się w 'lista': 1\n",
                        "Usunięto 'Python' z 'lista': ['jest', 'najlepszem', 'językiem', 'programowania']\n"
                    ]
                }
            ],
            "source": [
                "s = \"Python jest najlepszem językiem programowania\"\n",
                "text_list = s.split()\n",
                "print(\"Wynik split():\", text_list)\n",
                "print(\"Długość listy 'lista':\", len(text_list))\n",
                "print(\"Ile razy 'jest' pojawia się w 'lista':\", text_list.count(\"jest\"))\n",
                "\n",
                "if \"Python\" in text_list:\n",
                "    text_list.remove(\"Python\")\n",
                "    print(\"Usunięto 'Python' z 'lista':\", text_list)"
            ]
        },
        {
            "cell_type": "markdown",
            "metadata": {},
            "source": [
                "## Operacje Logiczne i Porównania\n",
                "\n",
                "Przykłady użycia operatorów logicznych oraz porównań:"
            ]
        },
        {
            "cell_type": "code",
            "execution_count": 47,
            "metadata": {},
            "outputs": [
                {
                    "name": "stdout",
                    "output_type": "stream",
                    "text": [
                        "a < b: True\n",
                        "a == b: False\n",
                        "a != b: True\n",
                        "x and y: False\n",
                        "x or y: True\n",
                        "not x: False\n",
                        "x is a: True\n",
                        "y is not b: True\n"
                    ]
                }
            ],
            "source": [
                "a = 10\n",
                "b = 20\n",
                "\n",
                "# Operatory porównania\n",
                "print('a < b:', a < b)\n",
                "print('a == b:', a == b)\n",
                "print('a != b:', a != b)\n",
                "\n",
                "# Operatory logiczne\n",
                "x = True\n",
                "y = False\n",
                "print('x and y:', x and y)\n",
                "print('x or y:', x or y)\n",
                "print('not x:', not x)\n",
                "# porównanie is/is not\n",
                "x = 10\n",
                "y = 10\n",
                "print('x is a:', x is a)\n",
                "print('y is not b:', y is not b)"
            ]
        },
        {
            "cell_type": "markdown",
            "metadata": {},
            "source": [
                "## Obsługa Błędów i Wyjątków\n",
                "\n",
                "Przykład obsługi wyjątków w Pythonie:"
            ]
        },
        {
            "cell_type": "code",
            "execution_count": 8,
            "metadata": {},
            "outputs": [
                {
                    "name": "stdout",
                    "output_type": "stream",
                    "text": [
                        "Błąd dzielenia przez zero: division by zero\n",
                        "Operacja zakończona.\n"
                    ]
                }
            ],
            "source": [
                "try:\n",
                "    wynik = 10 / 0\n",
                "except ZeroDivisionError as e:\n",
                "    print('Błąd dzielenia przez zero:', e)\n",
                "finally:\n",
                "    print('Operacja zakończona.')"
            ]
        },
        {
            "cell_type": "markdown",
            "id": "240fc0a4",
            "metadata": {},
            "source": [
                "Więcej informacji: https://docs.python.org/3/tutorial/errors.html"
            ]
        },
        {
            "cell_type": "markdown",
            "id": "3752b4b1",
            "metadata": {},
            "source": [
                "## Wyrażenia zastrzeżone\n",
                "\n",
                "W  Pythonie istnieje  szereg  zastrzeżonych  wyrażeń.  Jest  to  swego  rodzaju paradygmat programowania. W każdym języku istnieją takie słowa. Takich słów nie można używać do przypisywania zmiennych. Aby dowiedzieć się więcej o słowach zastrzeżonych wystarczy:"
            ]
        },
        {
            "cell_type": "code",
            "execution_count": 48,
            "id": "24157921",
            "metadata": {},
            "outputs": [
                {
                    "name": "stdout",
                    "output_type": "stream",
                    "text": [
                        "Lista słów kluczowych: ['False', 'None', 'True', 'and', 'as', 'assert', 'async', 'await', 'break', 'class', 'continue', 'def', 'del', 'elif', 'else', 'except', 'finally', 'for', 'from', 'global', 'if', 'import', 'in', 'is', 'lambda', 'nonlocal', 'not', 'or', 'pass', 'raise', 'return', 'try', 'while', 'with', 'yield']\n"
                    ]
                }
            ],
            "source": [
                "import keyword\n",
                "print('Lista słów kluczowych:', keyword.kwlist)"
            ]
        },
        {
            "cell_type": "code",
            "execution_count": 54,
            "id": "72809ed9",
            "metadata": {},
            "outputs": [
                {
                    "ename": "SyntaxError",
                    "evalue": "expected ':' (2250495613.py, line 2)",
                    "output_type": "error",
                    "traceback": [
                        "\u001b[0;36m  Cell \u001b[0;32mIn[54], line 2\u001b[0;36m\u001b[0m\n\u001b[0;31m    try = 10\u001b[0m\n\u001b[0m        ^\u001b[0m\n\u001b[0;31mSyntaxError\u001b[0m\u001b[0;31m:\u001b[0m expected ':'\n"
                    ]
                }
            ],
            "source": [
                "# Takie przypisanie zwróci błąd\n",
                "try = 10"
            ]
        },
        {
            "cell_type": "markdown",
            "metadata": {},
            "source": [
                "## Instrukcje Wejścia\n",
                "\n",
                "Przykład pobierania danych od użytkownika za pomocą funkcji `input()` oraz `eval(input())`."
            ]
        },
        {
            "cell_type": "code",
            "execution_count": 13,
            "metadata": {},
            "outputs": [
                {
                    "name": "stdout",
                    "output_type": "stream",
                    "text": [
                        "Wpisano: cos oraz typ: <class 'str'>\n",
                        "Wystąpił błąd: name 'cos' is not defined\n"
                    ]
                }
            ],
            "source": [
                "# Pobieranie danych jako string\n",
                "user_input = input('Wpisz coś: ')\n",
                "print('Wpisano:', user_input, 'oraz typ:', type(user_input))\n",
                "\n",
                "# Pobieranie danych i konwersja za pomocą eval (uwaga: używać ostrożnie!)\n",
                "# Wpisz np. 123, 3.14 lub True\n",
                "try:\n",
                "    user_value = eval(input('Wpisz wartość (np. 123, 3.14, True): '))\n",
                "    print('Wpisana wartość:', user_value, 'oraz typ:', type(user_value))\n",
                "except Exception as e:\n",
                "    print('Wystąpił błąd:', e)"
            ]
        },
        {
            "cell_type": "markdown",
            "id": "b59d0317",
            "metadata": {},
            "source": [
                "## PEP8 i Zen of Python\n",
                "\n",
                "Przestrzegaj standardów PEP-8. Aby zobaczyć Zen of Python, wykonaj poniższy kod:"
            ]
        },
        {
            "cell_type": "code",
            "execution_count": 15,
            "metadata": {},
            "outputs": [
                {
                    "name": "stdout",
                    "output_type": "stream",
                    "text": [
                        "The Zen of Python, by Tim Peters\n",
                        "\n",
                        "Beautiful is better than ugly.\n",
                        "Explicit is better than implicit.\n",
                        "Simple is better than complex.\n",
                        "Complex is better than complicated.\n",
                        "Flat is better than nested.\n",
                        "Sparse is better than dense.\n",
                        "Readability counts.\n",
                        "Special cases aren't special enough to break the rules.\n",
                        "Although practicality beats purity.\n",
                        "Errors should never pass silently.\n",
                        "Unless explicitly silenced.\n",
                        "In the face of ambiguity, refuse the temptation to guess.\n",
                        "There should be one-- and preferably only one --obvious way to do it.\n",
                        "Although that way may not be obvious at first unless you're Dutch.\n",
                        "Now is better than never.\n",
                        "Although never is often better than *right* now.\n",
                        "If the implementation is hard to explain, it's a bad idea.\n",
                        "If the implementation is easy to explain, it may be a good idea.\n",
                        "Namespaces are one honking great idea -- let's do more of those!\n"
                    ]
                }
            ],
            "source": [
                "import this"
            ]
        }
    ],
    "metadata": {
        "kernelspec": {
            "display_name": "base",
            "language": "python",
            "name": "python3"
        },
        "language_info": {
            "codemirror_mode": {
                "name": "ipython",
                "version": 3
            },
            "file_extension": ".py",
            "mimetype": "text/x-python",
            "name": "python",
            "nbconvert_exporter": "python",
            "pygments_lexer": "ipython3",
            "version": "3.11.8"
        }
    },
    "nbformat": 4,
    "nbformat_minor": 5
}
